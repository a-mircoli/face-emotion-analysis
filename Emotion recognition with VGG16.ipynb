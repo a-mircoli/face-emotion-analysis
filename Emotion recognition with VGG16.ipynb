{
  "nbformat": 4,
  "nbformat_minor": 0,
  "metadata": {
    "colab": {
      "name": "LSTM_classi.ipynb",
      "provenance": [],
      "collapsed_sections": []
    },
    "kernelspec": {
      "name": "python3",
      "display_name": "Python 3"
    },
    "language_info": {
      "name": "python"
    }
  },
  "cells": [
    {
      "cell_type": "code",
      "metadata": {
        "id": "5pK1LqMJbFj6"
      },
      "source": [
        "#load the necessary libraries\n",
        "from tensorflow.keras.applications.vgg16 import VGG16\n",
        "from tensorflow.keras.preprocessing import image\n",
        "from tensorflow.keras.applications.vgg16 import preprocess_input\n",
        "from keras.preprocessing.image import ImageDataGenerator, load_img, img_to_array\n",
        "import numpy as np\n",
        "import tensorflow as tf\n",
        "from keras import callbacks\n",
        "from keras import optimizers\n",
        "from keras.engine import Model\n",
        "from keras.layers import Dropout, Flatten, Dense\n",
        "from keras.optimizers import Adam\n",
        "from keras.applications import VGG16\n",
        "from keras.datasets import cifar10\n",
        "from keras.utils import to_categorical\n",
        "from tensorflow.keras.preprocessing import timeseries_dataset_from_array\n",
        "from keras.models import Sequential"
      ],
      "execution_count": null,
      "outputs": []
    },
    {
      "cell_type": "code",
      "metadata": {
        "colab": {
          "base_uri": "https://localhost:8080/"
        },
        "id": "_BqKbMZJ61B9",
        "outputId": "cb2d5dc0-f9da-4fc8-91a0-9ee14d8ef6bc"
      },
      "source": [
        "train_datagen = ImageDataGenerator(rescale=1./255)\n",
        "X_train = train_datagen.flow_from_directory(\n",
        "        '...TIROCINIO/train_ok4',\n",
        "        target_size=(150,150),\n",
        "        #batch_size=32,\n",
        "        shuffle=False,\n",
        "        class_mode=\"categorical\"\n",
        "    )"
      ],
      "execution_count": null,
      "outputs": [
        {
          "output_type": "stream",
          "text": [
            "Found 1032 images belonging to 7 classes.\n"
          ],
          "name": "stdout"
        }
      ]
    },
    {
      "cell_type": "code",
      "metadata": {
        "colab": {
          "base_uri": "https://localhost:8080/"
        },
        "id": "TKYM3xNW64cW",
        "outputId": "87d32a21-8c15-4f79-8815-e7b0c6ffa84a"
      },
      "source": [
        "train_datagen = ImageDataGenerator(rescale=1./255)\n",
        "X_test = train_datagen.flow_from_directory(\n",
        "        '...TIROCINIO/test_ok4',\n",
        "        target_size=(150,150),\n",
        "        #batch_size=32,\n",
        "        shuffle=False,\n",
        "        class_mode=\"categorical\"\n",
        "    )"
      ],
      "execution_count": null,
      "outputs": [
        {
          "output_type": "stream",
          "text": [
            "Found 260 images belonging to 7 classes.\n"
          ],
          "name": "stdout"
        }
      ]
    },
    {
      "cell_type": "code",
      "metadata": {
        "id": "dBSiMNZW1KSH",
        "colab": {
          "base_uri": "https://localhost:8080/"
        },
        "outputId": "2a851b1b-5f98-4339-8383-18c2437f0d64"
      },
      "source": [
        "w=X_test.labels\n",
        "c = np.zeros((w.size, w.max()+1))\n",
        "c[np.arange(w.size),w] = 1\n",
        "c"
      ],
      "execution_count": null,
      "outputs": [
        {
          "output_type": "execute_result",
          "data": {
            "text/plain": [
              "array([[1., 0., 0., ..., 0., 0., 0.],\n",
              "       [1., 0., 0., ..., 0., 0., 0.],\n",
              "       [1., 0., 0., ..., 0., 0., 0.],\n",
              "       ...,\n",
              "       [0., 0., 0., ..., 0., 0., 1.],\n",
              "       [0., 0., 0., ..., 0., 0., 1.],\n",
              "       [0., 0., 0., ..., 0., 0., 1.]])"
            ]
          },
          "metadata": {
            "tags": []
          },
          "execution_count": 319
        }
      ]
    },
    {
      "cell_type": "code",
      "metadata": {
        "colab": {
          "base_uri": "https://localhost:8080/"
        },
        "id": "5puG_gdh120s",
        "outputId": "8d5e2bb8-6d76-4008-a56c-213e58c82356"
      },
      "source": [
        "c.shape"
      ],
      "execution_count": null,
      "outputs": [
        {
          "output_type": "execute_result",
          "data": {
            "text/plain": [
              "(260, 7)"
            ]
          },
          "metadata": {
            "tags": []
          },
          "execution_count": 320
        }
      ]
    },
    {
      "cell_type": "code",
      "metadata": {
        "colab": {
          "base_uri": "https://localhost:8080/"
        },
        "id": "uhj0qiU61aXX",
        "outputId": "c2a0a71e-0b7d-4ed4-a2b8-076f4cb4f14a"
      },
      "source": [
        "ctest=c.reshape(65,4,7)\n",
        "ctest.shape"
      ],
      "execution_count": null,
      "outputs": [
        {
          "output_type": "execute_result",
          "data": {
            "text/plain": [
              "(65, 4, 7)"
            ]
          },
          "metadata": {
            "tags": []
          },
          "execution_count": 321
        }
      ]
    },
    {
      "cell_type": "code",
      "metadata": {
        "id": "KKuxUzRzreF2"
      },
      "source": [
        "v=X_train.labels"
      ],
      "execution_count": null,
      "outputs": []
    },
    {
      "cell_type": "code",
      "metadata": {
        "colab": {
          "base_uri": "https://localhost:8080/"
        },
        "id": "WngVUUKKzDkm",
        "outputId": "b411bd98-f866-40cc-99e2-ea8c19ecc59c"
      },
      "source": [
        "\n",
        "b = np.zeros((v.size, v.max()+1))\n",
        "b[np.arange(v.size),v] = 1\n",
        "b"
      ],
      "execution_count": null,
      "outputs": [
        {
          "output_type": "execute_result",
          "data": {
            "text/plain": [
              "array([[1., 0., 0., ..., 0., 0., 0.],\n",
              "       [1., 0., 0., ..., 0., 0., 0.],\n",
              "       [1., 0., 0., ..., 0., 0., 0.],\n",
              "       ...,\n",
              "       [0., 0., 0., ..., 0., 0., 1.],\n",
              "       [0., 0., 0., ..., 0., 0., 1.],\n",
              "       [0., 0., 0., ..., 0., 0., 1.]])"
            ]
          },
          "metadata": {
            "tags": []
          },
          "execution_count": 323
        }
      ]
    },
    {
      "cell_type": "code",
      "metadata": {
        "colab": {
          "base_uri": "https://localhost:8080/"
        },
        "id": "YOKUZhtUD1zy",
        "outputId": "052690b9-3b03-42ea-dddc-26995f29e390"
      },
      "source": [
        "b.shape"
      ],
      "execution_count": null,
      "outputs": [
        {
          "output_type": "execute_result",
          "data": {
            "text/plain": [
              "(1032, 7)"
            ]
          },
          "metadata": {
            "tags": []
          },
          "execution_count": 324
        }
      ]
    },
    {
      "cell_type": "code",
      "metadata": {
        "colab": {
          "base_uri": "https://localhost:8080/"
        },
        "id": "eji6ik-xzZcq",
        "outputId": "6f60f3d8-56f4-40ea-c1a4-91c7e51eaa10"
      },
      "source": [
        "btrain=b.reshape(258,4,7)\n",
        "btrain"
      ],
      "execution_count": null,
      "outputs": [
        {
          "output_type": "execute_result",
          "data": {
            "text/plain": [
              "array([[[1., 0., 0., ..., 0., 0., 0.],\n",
              "        [1., 0., 0., ..., 0., 0., 0.],\n",
              "        [1., 0., 0., ..., 0., 0., 0.],\n",
              "        [1., 0., 0., ..., 0., 0., 0.]],\n",
              "\n",
              "       [[1., 0., 0., ..., 0., 0., 0.],\n",
              "        [1., 0., 0., ..., 0., 0., 0.],\n",
              "        [1., 0., 0., ..., 0., 0., 0.],\n",
              "        [1., 0., 0., ..., 0., 0., 0.]],\n",
              "\n",
              "       [[1., 0., 0., ..., 0., 0., 0.],\n",
              "        [1., 0., 0., ..., 0., 0., 0.],\n",
              "        [1., 0., 0., ..., 0., 0., 0.],\n",
              "        [1., 0., 0., ..., 0., 0., 0.]],\n",
              "\n",
              "       ...,\n",
              "\n",
              "       [[0., 0., 0., ..., 0., 0., 1.],\n",
              "        [0., 0., 0., ..., 0., 0., 1.],\n",
              "        [0., 0., 0., ..., 0., 0., 1.],\n",
              "        [0., 0., 0., ..., 0., 0., 1.]],\n",
              "\n",
              "       [[0., 0., 0., ..., 0., 0., 1.],\n",
              "        [0., 0., 0., ..., 0., 0., 1.],\n",
              "        [0., 0., 0., ..., 0., 0., 1.],\n",
              "        [0., 0., 0., ..., 0., 0., 1.]],\n",
              "\n",
              "       [[0., 0., 0., ..., 0., 0., 1.],\n",
              "        [0., 0., 0., ..., 0., 0., 1.],\n",
              "        [0., 0., 0., ..., 0., 0., 1.],\n",
              "        [0., 0., 0., ..., 0., 0., 1.]]])"
            ]
          },
          "metadata": {
            "tags": []
          },
          "execution_count": 325
        }
      ]
    },
    {
      "cell_type": "code",
      "metadata": {
        "id": "spVwFzu4Ff_U",
        "colab": {
          "base_uri": "https://localhost:8080/"
        },
        "outputId": "040dfd93-b31a-41b7-8421-78de771786d1"
      },
      "source": [
        "ct= np.load('...TIROCINIO/classipredette_4frame/classesTest4f.npy')\n",
        "ct.argmax(axis=-1)"
      ],
      "execution_count": null,
      "outputs": [
        {
          "output_type": "execute_result",
          "data": {
            "text/plain": [
              "array([0, 0, 0, 0, 2, 2, 2, 0, 0, 0, 2, 2, 0, 0, 0, 0, 5, 0, 0, 2, 0, 0,\n",
              "       0, 0, 0, 0, 0, 0, 0, 0, 0, 0, 4, 4, 4, 4, 4, 4, 4, 4, 1, 1, 1, 1,\n",
              "       0, 3, 5, 1, 0, 0, 0, 0, 0, 0, 2, 0, 2, 2, 2, 2, 2, 2, 2, 2, 2, 2,\n",
              "       2, 2, 2, 2, 2, 2, 2, 2, 2, 2, 2, 2, 2, 2, 2, 2, 2, 2, 2, 2, 2, 2,\n",
              "       2, 2, 2, 2, 2, 2, 2, 2, 4, 4, 4, 4, 4, 4, 4, 4, 4, 4, 4, 4, 3, 3,\n",
              "       3, 3, 4, 4, 4, 4, 0, 4, 4, 4, 0, 4, 4, 4, 2, 4, 4, 2, 4, 4, 4, 4,\n",
              "       4, 4, 4, 4, 4, 0, 4, 4, 4, 4, 4, 4, 4, 4, 4, 2, 6, 3, 3, 4, 4, 4,\n",
              "       4, 4, 4, 4, 4, 4, 4, 4, 4, 4, 4, 4, 4, 4, 2, 2, 2, 2, 5, 5, 2, 2,\n",
              "       0, 0, 0, 0, 4, 0, 4, 0, 0, 0, 0, 0, 3, 6, 6, 6, 6, 6, 6, 6, 6, 6,\n",
              "       6, 6, 6, 6, 6, 6, 3, 3, 3, 3, 6, 6, 6, 6, 6, 6, 6, 6, 2, 4, 4, 4,\n",
              "       6, 6, 6, 6, 6, 6, 6, 4, 6, 6, 6, 6, 6, 6, 6, 6, 6, 6, 6, 6, 6, 6,\n",
              "       6, 6, 6, 6, 6, 6, 6, 6, 6, 6, 1, 1, 1, 1, 5, 6, 6, 6])"
            ]
          },
          "metadata": {
            "tags": []
          },
          "execution_count": 326
        }
      ]
    },
    {
      "cell_type": "code",
      "metadata": {
        "colab": {
          "base_uri": "https://localhost:8080/"
        },
        "id": "owSFXeh2HfV2",
        "outputId": "ffa78a8b-c59c-461f-a576-37a5d078255f"
      },
      "source": [
        "ctr=np.load('...TIROCINIO/classipredette_4frame/classesTrain4f.npy')\n",
        "ctr.argmax(axis=-1)"
      ],
      "execution_count": null,
      "outputs": [
        {
          "output_type": "execute_result",
          "data": {
            "text/plain": [
              "array([0, 0, 0, ..., 6, 6, 6])"
            ]
          },
          "metadata": {
            "tags": []
          },
          "execution_count": 327
        }
      ]
    },
    {
      "cell_type": "code",
      "metadata": {
        "colab": {
          "base_uri": "https://localhost:8080/"
        },
        "id": "2zRkNd8OHpMy",
        "outputId": "2d19a17e-9973-4b6d-9a81-ec9083cad15d"
      },
      "source": [
        "print(ct.shape)\n",
        "print(ctr.shape)"
      ],
      "execution_count": null,
      "outputs": [
        {
          "output_type": "stream",
          "text": [
            "(260, 7)\n",
            "(1032, 7)\n"
          ],
          "name": "stdout"
        }
      ]
    },
    {
      "cell_type": "code",
      "metadata": {
        "id": "s_FZ3yRlUcQ7"
      },
      "source": [
        "x= ctr.reshape(258,4,7)\n",
        "#train_set"
      ],
      "execution_count": null,
      "outputs": []
    },
    {
      "cell_type": "code",
      "metadata": {
        "id": "VhsSRl-1W0lT"
      },
      "source": [
        "y=ct.reshape(65,4,7)\n",
        "#test_set"
      ],
      "execution_count": null,
      "outputs": []
    },
    {
      "cell_type": "code",
      "metadata": {
        "colab": {
          "base_uri": "https://localhost:8080/"
        },
        "id": "QJ-kTwMKpLqz",
        "outputId": "9b9c7839-cd54-43fa-bd8c-5c494446c742"
      },
      "source": [
        "\n",
        "x.shape"
      ],
      "execution_count": null,
      "outputs": [
        {
          "output_type": "execute_result",
          "data": {
            "text/plain": [
              "(258, 4, 7)"
            ]
          },
          "metadata": {
            "tags": []
          },
          "execution_count": 331
        }
      ]
    },
    {
      "cell_type": "code",
      "metadata": {
        "colab": {
          "base_uri": "https://localhost:8080/"
        },
        "id": "1F9SQvFup_Jo",
        "outputId": "4fc1e0d8-9cb2-4523-b6da-2bfa71339e62"
      },
      "source": [
        "y.shape\n"
      ],
      "execution_count": null,
      "outputs": [
        {
          "output_type": "execute_result",
          "data": {
            "text/plain": [
              "(65, 4, 7)"
            ]
          },
          "metadata": {
            "tags": []
          },
          "execution_count": 332
        }
      ]
    },
    {
      "cell_type": "code",
      "metadata": {
        "colab": {
          "base_uri": "https://localhost:8080/"
        },
        "id": "5NA-LvPi0h7w",
        "outputId": "f825484d-4402-4dc9-990a-dad5c4a09348"
      },
      "source": [
        "btrain.shape\n",
        "print(btrain[:,0,:].shape)\n",
        "\n",
        "btrain = btrain[:,0,:]"
      ],
      "execution_count": null,
      "outputs": [
        {
          "output_type": "stream",
          "text": [
            "(258, 7)\n"
          ],
          "name": "stdout"
        }
      ]
    },
    {
      "cell_type": "code",
      "metadata": {
        "colab": {
          "base_uri": "https://localhost:8080/"
        },
        "id": "5bg6AUzor_73",
        "outputId": "0caddac2-e24a-4654-af91-1ef0f88dbd95"
      },
      "source": [
        "ctest.shape\n",
        "print(ctest[:,0,:].shape)\n",
        "\n",
        "ctest = ctest[:,0,:]"
      ],
      "execution_count": null,
      "outputs": [
        {
          "output_type": "stream",
          "text": [
            "(65, 7)\n"
          ],
          "name": "stdout"
        }
      ]
    },
    {
      "cell_type": "code",
      "metadata": {
        "colab": {
          "base_uri": "https://localhost:8080/"
        },
        "id": "-Ok0qeSC1qSg",
        "outputId": "57d7072f-cc55-4d2b-8db1-eb57bb3c8133"
      },
      "source": [
        "ctest.shape"
      ],
      "execution_count": null,
      "outputs": [
        {
          "output_type": "execute_result",
          "data": {
            "text/plain": [
              "(65, 7)"
            ]
          },
          "metadata": {
            "tags": []
          },
          "execution_count": 335
        }
      ]
    },
    {
      "cell_type": "code",
      "metadata": {
        "id": "kQ1gGu1Dnh4T"
      },
      "source": [
        "from keras.layers import LSTM\n",
        "n_timesteps=4\n",
        "n_features=7\n",
        "n_outputs=7\n",
        "model = Sequential()\n",
        "\n",
        "#model.add(Dropout(0.5))\n",
        "#model.add(LSTM(100))\n",
        "model.add(LSTM(50, input_shape=( n_timesteps,n_features),  return_sequences=True))\n",
        "#model.add(Dropout(0.5))\n",
        "model.add(Flatten())\n",
        "#model.add(Dense(100, activation='relu'))\n",
        "model.add(Dense(7, activation='softmax'))\n",
        "\n",
        "model.compile(loss='categorical_crossentropy', optimizer='adam', metrics=['accuracy'])\n"
      ],
      "execution_count": null,
      "outputs": []
    },
    {
      "cell_type": "code",
      "metadata": {
        "id": "6Am0IWhLwOyi"
      },
      "source": [
        ""
      ],
      "execution_count": null,
      "outputs": []
    },
    {
      "cell_type": "code",
      "metadata": {
        "colab": {
          "base_uri": "https://localhost:8080/"
        },
        "id": "YagTAHkW2WCR",
        "outputId": "374fb5a8-ec5e-4bf2-a01c-af633f396f61"
      },
      "source": [
        "model.summary()"
      ],
      "execution_count": null,
      "outputs": [
        {
          "output_type": "stream",
          "text": [
            "Model: \"sequential_13\"\n",
            "_________________________________________________________________\n",
            "Layer (type)                 Output Shape              Param #   \n",
            "=================================================================\n",
            "lstm_13 (LSTM)               (None, 4, 50)             11600     \n",
            "_________________________________________________________________\n",
            "flatten_13 (Flatten)         (None, 200)               0         \n",
            "_________________________________________________________________\n",
            "dense_21 (Dense)             (None, 7)                 1407      \n",
            "=================================================================\n",
            "Total params: 13,007\n",
            "Trainable params: 13,007\n",
            "Non-trainable params: 0\n",
            "_________________________________________________________________\n"
          ],
          "name": "stdout"
        }
      ]
    },
    {
      "cell_type": "code",
      "metadata": {
        "id": "fzMuutLl9v-s"
      },
      "source": [
        "train=tf.keras.utils.to_categorical(x.argmax(axis=-1), num_classes=7)"
      ],
      "execution_count": null,
      "outputs": []
    },
    {
      "cell_type": "code",
      "metadata": {
        "colab": {
          "base_uri": "https://localhost:8080/"
        },
        "id": "RXzBvjJY2tR4",
        "outputId": "3b9f25e1-a1d5-4568-8969-ac259bd908e4"
      },
      "source": [
        "train.shape"
      ],
      "execution_count": null,
      "outputs": [
        {
          "output_type": "execute_result",
          "data": {
            "text/plain": [
              "(258, 4, 7)"
            ]
          },
          "metadata": {
            "tags": []
          },
          "execution_count": 310
        }
      ]
    },
    {
      "cell_type": "code",
      "metadata": {
        "id": "l7QgxXYoARNN"
      },
      "source": [
        "test=tf.keras.utils.to_categorical(y.argmax(axis=-1), num_classes=7)"
      ],
      "execution_count": null,
      "outputs": []
    },
    {
      "cell_type": "code",
      "metadata": {
        "colab": {
          "base_uri": "https://localhost:8080/"
        },
        "id": "1JdebDLv2wm-",
        "outputId": "ba8951db-36cd-403e-c3e7-04c8b304c929"
      },
      "source": [
        "test.shape"
      ],
      "execution_count": null,
      "outputs": [
        {
          "output_type": "execute_result",
          "data": {
            "text/plain": [
              "(65, 4, 7)"
            ]
          },
          "metadata": {
            "tags": []
          },
          "execution_count": 312
        }
      ]
    },
    {
      "cell_type": "code",
      "metadata": {
        "colab": {
          "base_uri": "https://localhost:8080/"
        },
        "id": "bUV0RsbBDmGL",
        "outputId": "4b298074-db49-425e-f520-daf65ef3d98d"
      },
      "source": [
        "ctest.shape"
      ],
      "execution_count": null,
      "outputs": [
        {
          "output_type": "execute_result",
          "data": {
            "text/plain": [
              "(65, 7)"
            ]
          },
          "metadata": {
            "tags": []
          },
          "execution_count": 313
        }
      ]
    },
    {
      "cell_type": "code",
      "metadata": {
        "id": "UiW3cY1moBKh",
        "colab": {
          "base_uri": "https://localhost:8080/"
        },
        "outputId": "879613d1-6092-43cf-e145-6ac548cd8150"
      },
      "source": [
        "model.fit(train, btrain, validation_data=(test, ctest), epochs=16)"
      ],
      "execution_count": null,
      "outputs": [
        {
          "output_type": "stream",
          "text": [
            "Epoch 1/16\n",
            "9/9 [==============================] - 0s 32ms/step - loss: 0.3254 - accuracy: 0.9225 - val_loss: 1.2203 - val_accuracy: 0.6462\n",
            "Epoch 2/16\n",
            "9/9 [==============================] - 0s 23ms/step - loss: 0.3133 - accuracy: 0.9225 - val_loss: 1.2877 - val_accuracy: 0.6462\n",
            "Epoch 3/16\n",
            "9/9 [==============================] - 0s 24ms/step - loss: 0.3087 - accuracy: 0.9225 - val_loss: 1.2858 - val_accuracy: 0.6462\n",
            "Epoch 4/16\n",
            "9/9 [==============================] - 0s 20ms/step - loss: 0.3074 - accuracy: 0.9264 - val_loss: 1.2350 - val_accuracy: 0.6462\n",
            "Epoch 5/16\n",
            "9/9 [==============================] - 0s 22ms/step - loss: 0.3345 - accuracy: 0.9225 - val_loss: 1.2392 - val_accuracy: 0.6462\n",
            "Epoch 6/16\n",
            "9/9 [==============================] - 0s 18ms/step - loss: 0.3201 - accuracy: 0.9225 - val_loss: 1.2734 - val_accuracy: 0.6462\n",
            "Epoch 7/16\n",
            "9/9 [==============================] - 0s 18ms/step - loss: 0.3029 - accuracy: 0.9186 - val_loss: 1.3255 - val_accuracy: 0.6462\n",
            "Epoch 8/16\n",
            "9/9 [==============================] - 0s 19ms/step - loss: 0.3049 - accuracy: 0.9225 - val_loss: 1.3299 - val_accuracy: 0.6462\n",
            "Epoch 9/16\n",
            "9/9 [==============================] - 0s 19ms/step - loss: 0.3019 - accuracy: 0.9225 - val_loss: 1.3280 - val_accuracy: 0.6462\n",
            "Epoch 10/16\n",
            "9/9 [==============================] - 0s 19ms/step - loss: 0.2928 - accuracy: 0.9225 - val_loss: 1.3069 - val_accuracy: 0.6615\n",
            "Epoch 11/16\n",
            "9/9 [==============================] - 0s 21ms/step - loss: 0.2891 - accuracy: 0.9225 - val_loss: 1.2975 - val_accuracy: 0.6615\n",
            "Epoch 12/16\n",
            "9/9 [==============================] - 0s 21ms/step - loss: 0.2862 - accuracy: 0.9225 - val_loss: 1.3255 - val_accuracy: 0.6462\n",
            "Epoch 13/16\n",
            "9/9 [==============================] - 0s 20ms/step - loss: 0.2852 - accuracy: 0.9225 - val_loss: 1.3298 - val_accuracy: 0.6462\n",
            "Epoch 14/16\n",
            "9/9 [==============================] - 0s 18ms/step - loss: 0.2831 - accuracy: 0.9264 - val_loss: 1.3424 - val_accuracy: 0.6615\n",
            "Epoch 15/16\n",
            "9/9 [==============================] - 0s 22ms/step - loss: 0.2880 - accuracy: 0.9264 - val_loss: 1.3733 - val_accuracy: 0.6615\n",
            "Epoch 16/16\n",
            "9/9 [==============================] - 0s 20ms/step - loss: 0.2817 - accuracy: 0.9264 - val_loss: 1.3856 - val_accuracy: 0.6615\n"
          ],
          "name": "stdout"
        },
        {
          "output_type": "execute_result",
          "data": {
            "text/plain": [
              "<tensorflow.python.keras.callbacks.History at 0x7f1724156090>"
            ]
          },
          "metadata": {
            "tags": []
          },
          "execution_count": 338
        }
      ]
    },
    {
      "cell_type": "code",
      "metadata": {
        "id": "IPpGGXHNqpdB"
      },
      "source": [
        "from keras.layers import LSTM\n",
        "n_timesteps=4\n",
        "n_features=7\n",
        "n_outputs=7\n",
        "model = Sequential()\n",
        "\n",
        "#model.add(Dropout(0.5))\n",
        "#model.add(LSTM(100))\n",
        "model.add(LSTM(100, input_shape=( n_timesteps,n_features),  return_sequences=True))\n",
        "#model.add(Dropout(0.5))\n",
        "model.add(Flatten())\n",
        "#model.add(Dense(100, activation='relu'))\n",
        "model.add(Dense(7, activation='softmax'))\n",
        "\n",
        "model.compile(loss='categorical_crossentropy', optimizer='adam', metrics=['accuracy'])"
      ],
      "execution_count": null,
      "outputs": []
    },
    {
      "cell_type": "code",
      "metadata": {
        "colab": {
          "base_uri": "https://localhost:8080/"
        },
        "id": "UMCQoxn0qtQB",
        "outputId": "50e38c12-992c-48c3-c5a3-f0b2fe676780"
      },
      "source": [
        "model.fit(train, btrain, validation_data=(test, ctest), epochs=10)"
      ],
      "execution_count": null,
      "outputs": [
        {
          "output_type": "stream",
          "text": [
            "Epoch 1/10\n",
            "9/9 [==============================] - 3s 147ms/step - loss: 1.8833 - accuracy: 0.5446 - val_loss: 1.8058 - val_accuracy: 0.6615\n",
            "Epoch 2/10\n",
            "9/9 [==============================] - 0s 13ms/step - loss: 1.7052 - accuracy: 0.9285 - val_loss: 1.6817 - val_accuracy: 0.6769\n",
            "Epoch 3/10\n",
            "9/9 [==============================] - 0s 12ms/step - loss: 1.5227 - accuracy: 0.9231 - val_loss: 1.5315 - val_accuracy: 0.6923\n",
            "Epoch 4/10\n",
            "9/9 [==============================] - 0s 13ms/step - loss: 1.3035 - accuracy: 0.9065 - val_loss: 1.3511 - val_accuracy: 0.6923\n",
            "Epoch 5/10\n",
            "9/9 [==============================] - 0s 12ms/step - loss: 1.0477 - accuracy: 0.9242 - val_loss: 1.1883 - val_accuracy: 0.6923\n",
            "Epoch 6/10\n",
            "9/9 [==============================] - 0s 14ms/step - loss: 0.7968 - accuracy: 0.9226 - val_loss: 1.1046 - val_accuracy: 0.6923\n",
            "Epoch 7/10\n",
            "9/9 [==============================] - 0s 12ms/step - loss: 0.6380 - accuracy: 0.8989 - val_loss: 1.0900 - val_accuracy: 0.6769\n",
            "Epoch 8/10\n",
            "9/9 [==============================] - 0s 12ms/step - loss: 0.5495 - accuracy: 0.8989 - val_loss: 1.1244 - val_accuracy: 0.6769\n",
            "Epoch 9/10\n",
            "9/9 [==============================] - 0s 12ms/step - loss: 0.4600 - accuracy: 0.9057 - val_loss: 1.1556 - val_accuracy: 0.6769\n",
            "Epoch 10/10\n",
            "9/9 [==============================] - 0s 12ms/step - loss: 0.4336 - accuracy: 0.9222 - val_loss: 1.1684 - val_accuracy: 0.6769\n"
          ],
          "name": "stdout"
        },
        {
          "output_type": "execute_result",
          "data": {
            "text/plain": [
              "<tensorflow.python.keras.callbacks.History at 0x7f172057b850>"
            ]
          },
          "metadata": {
            "tags": []
          },
          "execution_count": 315
        }
      ]
    },
    {
      "cell_type": "code",
      "metadata": {
        "id": "vBvE9_iUv0Kw"
      },
      "source": [
        "from keras.layers import LSTM\n",
        "n_timesteps=4\n",
        "n_features=7\n",
        "n_outputs=7\n",
        "model = Sequential()\n",
        "\n",
        "#model.add(Dropout(0.5))\n",
        "#model.add(LSTM(100))\n",
        "model.add(LSTM(200, input_shape=( n_timesteps,n_features),  return_sequences=True))\n",
        "#model.add(Dropout(0.5))\n",
        "model.add(Flatten())\n",
        "#model.add(Dense(100, activation='relu'))\n",
        "model.add(Dense(7, activation='softmax'))\n",
        "\n",
        "model.compile(loss='categorical_crossentropy', optimizer='adam', metrics=['accuracy'])"
      ],
      "execution_count": null,
      "outputs": []
    },
    {
      "cell_type": "code",
      "metadata": {
        "colab": {
          "base_uri": "https://localhost:8080/"
        },
        "id": "5hJwVZrGv176",
        "outputId": "a30c42de-6a76-49c5-b4db-0b03250c1a2f"
      },
      "source": [
        "model.fit(train, btrain, validation_data=(test, ctest), epochs=10)"
      ],
      "execution_count": null,
      "outputs": [
        {
          "output_type": "stream",
          "text": [
            "Epoch 1/10\n",
            "9/9 [==============================] - 3s 86ms/step - loss: 1.8744 - accuracy: 0.6038 - val_loss: 1.7534 - val_accuracy: 0.6923\n",
            "Epoch 2/10\n",
            "9/9 [==============================] - 0s 18ms/step - loss: 1.5975 - accuracy: 0.8983 - val_loss: 1.5435 - val_accuracy: 0.6923\n",
            "Epoch 3/10\n",
            "9/9 [==============================] - 0s 20ms/step - loss: 1.2837 - accuracy: 0.8985 - val_loss: 1.3092 - val_accuracy: 0.6923\n",
            "Epoch 4/10\n",
            "9/9 [==============================] - 0s 18ms/step - loss: 0.8430 - accuracy: 0.9256 - val_loss: 1.2058 - val_accuracy: 0.6923\n",
            "Epoch 5/10\n",
            "9/9 [==============================] - 0s 19ms/step - loss: 0.6030 - accuracy: 0.9038 - val_loss: 1.2447 - val_accuracy: 0.6769\n",
            "Epoch 6/10\n",
            "9/9 [==============================] - 0s 21ms/step - loss: 0.4799 - accuracy: 0.9058 - val_loss: 1.2729 - val_accuracy: 0.6615\n",
            "Epoch 7/10\n",
            "9/9 [==============================] - 0s 18ms/step - loss: 0.3833 - accuracy: 0.9193 - val_loss: 1.2496 - val_accuracy: 0.6615\n",
            "Epoch 8/10\n",
            "9/9 [==============================] - 0s 19ms/step - loss: 0.3294 - accuracy: 0.9344 - val_loss: 1.2319 - val_accuracy: 0.6462\n",
            "Epoch 9/10\n",
            "9/9 [==============================] - 0s 18ms/step - loss: 0.3180 - accuracy: 0.9274 - val_loss: 1.2049 - val_accuracy: 0.6462\n",
            "Epoch 10/10\n",
            "9/9 [==============================] - 0s 20ms/step - loss: 0.2764 - accuracy: 0.9381 - val_loss: 1.2237 - val_accuracy: 0.6462\n"
          ],
          "name": "stdout"
        },
        {
          "output_type": "execute_result",
          "data": {
            "text/plain": [
              "<tensorflow.python.keras.callbacks.History at 0x7f172171b850>"
            ]
          },
          "metadata": {
            "tags": []
          },
          "execution_count": 337
        }
      ]
    },
    {
      "cell_type": "code",
      "metadata": {
        "id": "KAQTehkrFaTU"
      },
      "source": [
        "model.evaluate(train,btrain)\n",
        "\n",
        "pred= model.predict_classes(train)\n",
        "\n",
        "true = np.argmax(btrain,axis=-1)\n",
        "from sklearn import metrics\n",
        "metrics.accuracy_score(true,pred)\n",
        "\n",
        "print(true)\n",
        "print(pred)\n",
        "\n",
        "#controlla quali leement sbaglia"
      ],
      "execution_count": null,
      "outputs": []
    },
    {
      "cell_type": "code",
      "metadata": {
        "colab": {
          "base_uri": "https://localhost:8080/"
        },
        "id": "1uoOTGSzteVG",
        "outputId": "f1bc4a7c-a805-48bf-8bbb-c5cf517be2ba"
      },
      "source": [
        "import numpy as np\n",
        "from sklearn.metrics import confusion_matrix,classification_report\n",
        "\n",
        "\n",
        "predictions = model.predict(train)\n",
        "predictions = np.argmax(predictions, axis= 1)\n",
        "predictions.shape"
      ],
      "execution_count": null,
      "outputs": [
        {
          "output_type": "execute_result",
          "data": {
            "text/plain": [
              "(258,)"
            ]
          },
          "metadata": {
            "tags": []
          },
          "execution_count": 147
        }
      ]
    },
    {
      "cell_type": "code",
      "metadata": {
        "colab": {
          "base_uri": "https://localhost:8080/"
        },
        "id": "pgN2yvEtvRjC",
        "outputId": "ec80134d-c186-4532-bfbf-e6dcc24df013"
      },
      "source": [
        "import numpy as np\n",
        "from sklearn.metrics import confusion_matrix,classification_report\n",
        "\n",
        "class_labels = list(X_train.class_indices.keys())   \n",
        "print(class_labels)\n",
        "v=X_train.labels\n",
        "b = np.zeros((v.size, v.max()+1))\n",
        "b[np.arange(v.size),v] = 1\n",
        "btrain=b.reshape(258,4,7)\n",
        "btrain = btrain[:,0,:]\n",
        "btrain = np.argmax(btrain, axis=-1)\n",
        "predictions = model.predict(train)\n",
        "predictions = np.argmax(predictions, axis= -1)\n",
        "#predictions.shape\n",
        "\n",
        "print(confusion_matrix(btrain, predictions,  labels=None, sample_weight=None, normalize=None))\n",
        "print()\n",
        "\n",
        "report = classification_report(btrain, predictions, target_names=class_labels)\n",
        "print(report)"
      ],
      "execution_count": null,
      "outputs": [
        {
          "output_type": "stream",
          "text": [
            "['1_anger', '2_contempt', '3_disgust', '4_fear', '5_happy', '6_sadness', '7_surprise']\n",
            "[[35  0  2  0  0  0  0]\n",
            " [ 2  9  0  0  1  1  0]\n",
            " [ 1  0 44  0  2  1  0]\n",
            " [ 0  0  1 14  3  0  0]\n",
            " [ 0  0  1  0 54  0  0]\n",
            " [ 3  0  0  0  1 18  0]\n",
            " [ 0  0  3  0  0  0 62]]\n",
            "\n",
            "              precision    recall  f1-score   support\n",
            "\n",
            "     1_anger       0.85      0.95      0.90        37\n",
            "  2_contempt       1.00      0.69      0.82        13\n",
            "   3_disgust       0.86      0.92      0.89        48\n",
            "      4_fear       1.00      0.78      0.88        18\n",
            "     5_happy       0.89      0.98      0.93        55\n",
            "   6_sadness       0.90      0.82      0.86        22\n",
            "  7_surprise       1.00      0.95      0.98        65\n",
            "\n",
            "    accuracy                           0.91       258\n",
            "   macro avg       0.93      0.87      0.89       258\n",
            "weighted avg       0.92      0.91      0.91       258\n",
            "\n"
          ],
          "name": "stdout"
        }
      ]
    },
    {
      "cell_type": "code",
      "metadata": {
        "colab": {
          "base_uri": "https://localhost:8080/"
        },
        "id": "3FgVGQqi1XO-",
        "outputId": "dbaf84cf-addd-444c-a25d-954247299882"
      },
      "source": [
        "import numpy as np\n",
        "from sklearn.metrics import confusion_matrix,classification_report\n",
        "\n",
        "class_labels = list(X_test.class_indices.keys())   \n",
        "print(class_labels)\n",
        "w=X_test.labels\n",
        "c = np.zeros((w.size, w.max()+1))\n",
        "c[np.arange(w.size),w] = 1\n",
        "ctest=c.reshape(65,4,7)\n",
        "ctest = ctest[:,0,:]\n",
        "ctest = np.argmax(ctest, axis=-1)\n",
        "predictionstest = model.predict(test)\n",
        "predictionstest = np.argmax(predictionstest, axis= -1)\n",
        "#predictions.shape\n",
        "\n",
        "#Confusion matrix whose i-th row and j-th column entry indicates \n",
        "#the number of samples with true label being i-th class and predicted label being j-th class.\n",
        "print(confusion_matrix(ctest, predictionstest,  labels=None, sample_weight=None, normalize=None))\n",
        "print()\n",
        "\n",
        "report = classification_report(ctest, predictionstest, target_names=class_labels)\n",
        "print(report)"
      ],
      "execution_count": null,
      "outputs": [
        {
          "output_type": "stream",
          "text": [
            "['1_anger', '2_contempt', '3_disgust', '4_fear', '5_happy', '6_sadness', '7_surprise']\n",
            "[[ 7  0  1  0  0  0  0]\n",
            " [ 2  1  0  0  2  0  0]\n",
            " [ 1  0 10  0  0  0  0]\n",
            " [ 0  0  0  1  5  0  0]\n",
            " [ 0  0  0  0 11  0  1]\n",
            " [ 2  0  2  0  1  0  1]\n",
            " [ 0  1  0  1  1  0 14]]\n",
            "\n",
            "              precision    recall  f1-score   support\n",
            "\n",
            "     1_anger       0.58      0.88      0.70         8\n",
            "  2_contempt       0.50      0.20      0.29         5\n",
            "   3_disgust       0.77      0.91      0.83        11\n",
            "      4_fear       0.50      0.17      0.25         6\n",
            "     5_happy       0.55      0.92      0.69        12\n",
            "   6_sadness       0.00      0.00      0.00         6\n",
            "  7_surprise       0.88      0.82      0.85        17\n",
            "\n",
            "    accuracy                           0.68        65\n",
            "   macro avg       0.54      0.56      0.52        65\n",
            "weighted avg       0.62      0.68      0.62        65\n",
            "\n"
          ],
          "name": "stdout"
        },
        {
          "output_type": "stream",
          "text": [
            "/usr/local/lib/python3.7/dist-packages/sklearn/metrics/_classification.py:1272: UndefinedMetricWarning: Precision and F-score are ill-defined and being set to 0.0 in labels with no predicted samples. Use `zero_division` parameter to control this behavior.\n",
            "  _warn_prf(average, modifier, msg_start, len(result))\n"
          ],
          "name": "stderr"
        }
      ]
    }
  ]
}